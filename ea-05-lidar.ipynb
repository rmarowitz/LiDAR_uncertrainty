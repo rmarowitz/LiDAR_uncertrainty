{
 "cells": [
  {
   "cell_type": "markdown",
   "id": "49db11ac",
   "metadata": {},
   "source": [
    "<img style=\"float: left;\" src=\"earth-lab-logo-rgb.png\" width=\"150\" height=\"150\" />\n",
    "\n",
    "# Earth Analytics Education"
   ]
  },
  {
   "cell_type": "markdown",
   "id": "90713496",
   "metadata": {},
   "source": [
    "# LiDAR Uncertainty at SOAP and SJER NEON sites"
   ]
  },
  {
   "cell_type": "markdown",
   "id": "8882db88",
   "metadata": {},
   "source": [
    "## The Soap Site\n",
    "![Soaproot panorama](img/Soaproot_pano.jpeg)\n",
    "Image Credit: National Ecological Observation Network, available at https://www.neonscience.org/field-sites/soap"
   ]
  },
  {
   "cell_type": "markdown",
   "id": "4ea567ab",
   "metadata": {},
   "source": [
    "## The SJER Site\n",
    "![SJER panorama](img/sjer_site.jpeg)\n",
    "Image Credit: National Ecological Observation Network, available at https://www.neonscience.org/field-sites/sjer"
   ]
  },
  {
   "cell_type": "code",
   "execution_count": null,
   "id": "30e4f2fc",
   "metadata": {},
   "outputs": [],
   "source": []
  },
  {
   "cell_type": "code",
   "execution_count": null,
   "id": "d4f721a8",
   "metadata": {},
   "outputs": [],
   "source": []
  }
 ],
 "metadata": {
  "kernelspec": {
   "display_name": "Python 3 (ipykernel)",
   "language": "python",
   "name": "python3"
  },
  "language_info": {
   "codemirror_mode": {
    "name": "ipython",
    "version": 3
   },
   "file_extension": ".py",
   "mimetype": "text/x-python",
   "name": "python",
   "nbconvert_exporter": "python",
   "pygments_lexer": "ipython3",
   "version": "3.8.13"
  }
 },
 "nbformat": 4,
 "nbformat_minor": 5
}
